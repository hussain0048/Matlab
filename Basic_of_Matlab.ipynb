{
  "nbformat": 4,
  "nbformat_minor": 0,
  "metadata": {
    "colab": {
      "name": "Basic of Matlab.ipynb",
      "provenance": [],
      "collapsed_sections": [],
      "toc_visible": true,
      "include_colab_link": true
    },
    "kernelspec": {
      "name": "python3",
      "display_name": "Python 3"
    }
  },
  "cells": [
    {
      "cell_type": "markdown",
      "metadata": {
        "id": "view-in-github",
        "colab_type": "text"
      },
      "source": [
        "<a href=\"https://colab.research.google.com/github/hussain0048/Matlab/blob/master/Basic_of_Matlab.ipynb\" target=\"_parent\"><img src=\"https://colab.research.google.com/assets/colab-badge.svg\" alt=\"Open In Colab\"/></a>"
      ]
    },
    {
      "cell_type": "code",
      "metadata": {
        "id": "_dca6992Zfrg",
        "colab_type": "code",
        "colab": {}
      },
      "source": [
        "!apt install octave"
      ],
      "execution_count": null,
      "outputs": []
    },
    {
      "cell_type": "code",
      "metadata": {
        "id": "poFRb32bZk1J",
        "colab_type": "code",
        "colab": {}
      },
      "source": [
        "%%writefile add.m\n",
        "x = 1\n",
        "y = 2\n",
        "display(x+y)"
      ],
      "execution_count": null,
      "outputs": []
    },
    {
      "cell_type": "code",
      "metadata": {
        "id": "7o_LGZZiZrDD",
        "colab_type": "code",
        "colab": {}
      },
      "source": [
        "# -W : no window system\n",
        "!octave -W add.m"
      ],
      "execution_count": null,
      "outputs": []
    },
    {
      "cell_type": "code",
      "metadata": {
        "id": "4cg5Y8WTZuNd",
        "colab_type": "code",
        "colab": {}
      },
      "source": [
        "x=1\n",
        "y=3\n",
        "display(x+y)"
      ],
      "execution_count": null,
      "outputs": []
    },
    {
      "cell_type": "markdown",
      "metadata": {
        "id": "dD8vVdlrlak-",
        "colab_type": "text"
      },
      "source": [
        "# **What is MATLAB**[4]\n",
        "MATLAB (matrix laboratory) is a fourth-generation high-level programming language and interactive environment for numerical computation, visualization and programming. MATLAB is a programming language developed by MathWorks.It can be run both under interactive sessions and as a batch job.It allows matrix manipulations; plotting of functions and data; implementation of algorithms; creation of user interfaces; interfacing with programs written in other languages, including C, C++, Java, and FORTRAN; analyze data; develop algorithms; and create models and applications.\n",
        "\n",
        "It has numerous built-in commands and math functions that help you in mathematical calculations, generating plots, and performing numerical methods.\n"
      ]
    },
    {
      "cell_type": "markdown",
      "metadata": {
        "id": "aBxlAfKV8Fhx",
        "colab_type": "text"
      },
      "source": [
        "# **1-MATLAB environment**\n",
        "MATLAB environment consists of\n",
        "following main parts \n",
        "Command Window\n",
        "2. Command History\n",
        "3. Workspace\n",
        "4. Current Folder\n",
        "5. Editor Window"
      ]
    },
    {
      "cell_type": "markdown",
      "metadata": {
        "id": "piepp1e28YCP",
        "colab_type": "text"
      },
      "source": [
        "![](https://drive.google.com/uc?export=view&id=1eAuQvW0sPUOeh_XRyyvEj4SoqcsS4Oma)"
      ]
    },
    {
      "cell_type": "markdown",
      "metadata": {
        "id": "JH3K0V7h9AJG",
        "colab_type": "text"
      },
      "source": [
        "**Command Window**\n",
        "1. Main window in MATLAB.\n",
        "2. Used to enter variables.\n",
        "3. Used to run functions and\n",
        "M-file scripts.\n",
        "4. All commands are typed after\n",
        "command prompt “>>”.\n",
        "\n"
      ]
    },
    {
      "cell_type": "markdown",
      "metadata": {
        "id": "3n3PmWPf9UjW",
        "colab_type": "text"
      },
      "source": [
        "![](https://drive.google.com/uc?export=view&id=1gJ9ZT-rbDon6f13_r1aLRE4LhofxQb73)"
      ]
    },
    {
      "cell_type": "markdown",
      "metadata": {
        "id": "hkwIANA2-KaJ",
        "colab_type": "text"
      },
      "source": [
        "**Command History**\n",
        "1. Statements entered in\n",
        "command window are logged\n",
        "in Command History.\n",
        "2. View and search previously\n",
        "run statements.\n",
        "3. Copy and execute selected\n",
        "statements."
      ]
    },
    {
      "cell_type": "markdown",
      "metadata": {
        "id": "f46UBVRF-txk",
        "colab_type": "text"
      },
      "source": [
        "![](https://drive.google.com/uc?export=view&id=18n-Afw5EsZhkDNIEC-V_Axy4TGLhpqCw\n",
        " )"
      ]
    },
    {
      "cell_type": "markdown",
      "metadata": {
        "id": "9fvuj5jF_c8P",
        "colab_type": "text"
      },
      "source": [
        "**Workspace...**\n",
        "1. List all variables used as long\n",
        "as MATLAB has opened.\n",
        "2. Type “who” in command\n",
        "window to list all the\n",
        "commands used.\n",
        "3. Type “whos” to list all the\n",
        "commands with current\n",
        "values, dimensions, etc\n",
        "4. “clear” command is used to\n",
        "clear all the variables from\n",
        "workspace.\n",
        "5. Save all the variables and data\n",
        "to text file (.mat file) to use it\n",
        "for later."
      ]
    },
    {
      "cell_type": "markdown",
      "metadata": {
        "id": "Eb1NrL0BAZSp",
        "colab_type": "text"
      },
      "source": [
        "![](https://drive.google.com/uc?export=view&id=1M0Y283M5lqTTjxBtd3PszyY9w6osNlub\n",
        " )"
      ]
    },
    {
      "cell_type": "markdown",
      "metadata": {
        "id": "23UocFCiBHBC",
        "colab_type": "text"
      },
      "source": [
        "**Current Folder**\n",
        "1. Lists all m files, etc. available\n",
        "in current directory.\n",
        "2. Set working folder as current\n",
        "directory or as a part of the\n",
        "search path so that MATLAB\n",
        "will find the files easily"
      ]
    },
    {
      "cell_type": "markdown",
      "metadata": {
        "id": "l1rJ_BEEBwAn",
        "colab_type": "text"
      },
      "source": [
        "![](https://drive.google.com/uc?export=view&id=17IWyoRq0bbxM-dzk2opykt8DztHADZu7)"
      ]
    },
    {
      "cell_type": "markdown",
      "metadata": {
        "id": "48ZbE_tvG1yR",
        "colab_type": "text"
      },
      "source": [
        "**Editor**\n",
        "1. Used to create scripts and\n",
        "m-files.\n",
        "2. Click the “New Script” button\n",
        "in the Toolbar."
      ]
    },
    {
      "cell_type": "markdown",
      "metadata": {
        "id": "rUKVOYgIHCtb",
        "colab_type": "text"
      },
      "source": [
        "![](https://drive.google.com/uc?export=view&id=1m9FUQ-F3WJhKlGVyx9ccafGhq5BfvNoq)"
      ]
    },
    {
      "cell_type": "markdown",
      "metadata": {
        "id": "OgUqOhUjU5wa",
        "colab_type": "text"
      },
      "source": [
        "# **2- Variable**\n",
        "\n",
        "Variable is things that can varies.In MATLAB environment, every variable is an array or matrix.\n",
        "You can assign variables in a simple way. For example, \n",
        "- Defined with assignment operator, “=”.\n",
        "- Can be assigned without declaring their type and their type can\n",
        "change\n",
        "- Note that MATLAB is case sensitive! The variables x and X are not the\n",
        "same.\n",
        "- Once a variable is entered into the system, you can refer to it later.\n",
        "- Variables must have values before they are used.\n",
        "\n",
        "- When an expression returns a result that is not assigned to any variable, the system assigns it to a variable named ans, which can be used later.\n",
        "- To avoid choosing a name for a new variable that might conflict with a name already in use, check for any occurrences of the name using the which command\n",
        "\n",
        "\n"
      ]
    },
    {
      "cell_type": "code",
      "metadata": {
        "id": "b3HoEhFLm3lC",
        "colab_type": "code",
        "colab": {}
      },
      "source": [
        "x = 3\t  #defining x and initializing it with a value  "
      ],
      "execution_count": 8,
      "outputs": []
    },
    {
      "cell_type": "markdown",
      "metadata": {
        "id": "U_wKbp7RnQU2",
        "colab_type": "text"
      },
      "source": [
        "It creates a 1-by-1 matrix named x and stores the value 3 in its element. Let us check another example,"
      ]
    },
    {
      "cell_type": "markdown",
      "metadata": {
        "id": "IJTIvn1knuqP",
        "colab_type": "text"
      },
      "source": [
        "defining x and initializing it with an expression"
      ]
    },
    {
      "cell_type": "code",
      "metadata": {
        "id": "ToPqB_7YnYAe",
        "colab_type": "code",
        "colab": {}
      },
      "source": [
        "x = sqrt(16) \t"
      ],
      "execution_count": null,
      "outputs": []
    },
    {
      "cell_type": "code",
      "metadata": {
        "id": "YsgRJhoQoYOQ",
        "colab_type": "code",
        "colab": {}
      },
      "source": [
        "sqrt(78)"
      ],
      "execution_count": null,
      "outputs": []
    },
    {
      "cell_type": "code",
      "metadata": {
        "id": "mCHreQHAozIj",
        "colab_type": "code",
        "colab": {}
      },
      "source": [
        "x = 7 * 8;\n",
        "y = x * 7.89"
      ],
      "execution_count": 18,
      "outputs": []
    },
    {
      "cell_type": "markdown",
      "metadata": {
        "id": "HczOdWFdpCMv",
        "colab_type": "text"
      },
      "source": [
        "**Multiple Assignments**\n",
        "\n",
        "You can have multiple assignments on the same line. For example,"
      ]
    },
    {
      "cell_type": "code",
      "metadata": {
        "id": "kL-AvtLnpGQT",
        "colab_type": "code",
        "colab": {}
      },
      "source": [
        "a = 2; b = 7; c = a * b"
      ],
      "execution_count": 19,
      "outputs": []
    },
    {
      "cell_type": "markdown",
      "metadata": {
        "id": "28pSToYWpbET",
        "colab_type": "text"
      },
      "source": [
        "**I have forgotten the Variables!**\n",
        "\n",
        "The who command displays all the variable names you have used."
      ]
    },
    {
      "cell_type": "code",
      "metadata": {
        "id": "RtMdP9ANpm_9",
        "colab_type": "code",
        "colab": {}
      },
      "source": [
        "who\n"
      ],
      "execution_count": null,
      "outputs": []
    },
    {
      "cell_type": "markdown",
      "metadata": {
        "id": "NakL8VAmpzvT",
        "colab_type": "text"
      },
      "source": [
        "MATLAB will execute the above statement and return the following result −\n",
        "\n",
        "Your variables are:\n",
        "\n",
        "a    ans  b    c\n",
        "\n",
        "The whos command displays little more about the variables −\n",
        "\n",
        "- Variables currently in memory\n",
        "- Type of each variables\n",
        "- Memory allocated to each variable\n",
        "- Whether they are complex variables or not"
      ]
    },
    {
      "cell_type": "markdown",
      "metadata": {
        "id": "tN0QB_X2qZvZ",
        "colab_type": "text"
      },
      "source": [
        "**Clear**\n",
        "\n",
        "The clear command deletes all (or the specified) variable(s) from the memory."
      ]
    },
    {
      "cell_type": "code",
      "metadata": {
        "id": "ibycHx_6qf3S",
        "colab_type": "code",
        "colab": {}
      },
      "source": [
        "clear X     # it will delete x, won't display anything\n",
        "clear       # it will delete all variables in the workspace\n",
        "            #  peacefully and unobtrusively "
      ],
      "execution_count": null,
      "outputs": []
    },
    {
      "cell_type": "markdown",
      "metadata": {
        "id": "BgPD0ES2pbez",
        "colab_type": "text"
      },
      "source": [
        "**The format Command**\n",
        "\n",
        "By default, MATLAB displays numbers with four decimal place values. This is known as short format.\n",
        "However, if you want more precision, you need to use the format command.\n",
        "The format long command displays 16 digits after decimal.\n"
      ]
    },
    {
      "cell_type": "code",
      "metadata": {
        "id": "64n4JEsgpxPB",
        "colab_type": "code",
        "colab": {}
      },
      "source": [
        "format long\n",
        "x = 7 + 10/3 + 5 ^ 1.2"
      ],
      "execution_count": null,
      "outputs": []
    },
    {
      "cell_type": "code",
      "metadata": {
        "id": "RatYZT0xqNJu",
        "colab_type": "code",
        "colab": {}
      },
      "source": [
        "format short\n",
        "x = 7 + 10/3 + 5 ^ 1.2"
      ],
      "execution_count": null,
      "outputs": []
    },
    {
      "cell_type": "markdown",
      "metadata": {
        "id": "RQAhXGI_qUWm",
        "colab_type": "text"
      },
      "source": [
        "MATLAB will execute the above statement and return the following result −\n",
        "\n",
        "x = 17.232"
      ]
    },
    {
      "cell_type": "markdown",
      "metadata": {
        "id": "a0nTm2N0qfCf",
        "colab_type": "text"
      },
      "source": [
        "The format bank command rounds numbers to two decimal places. For example,"
      ]
    },
    {
      "cell_type": "code",
      "metadata": {
        "id": "Fc8moDfkqg3o",
        "colab_type": "code",
        "colab": {}
      },
      "source": [
        "Live Demo\n",
        "format bank\n",
        "daily_wage = 177.45;\n",
        "weekly_wage = daily_wage * 6"
      ],
      "execution_count": null,
      "outputs": []
    },
    {
      "cell_type": "markdown",
      "metadata": {
        "id": "aq-NIDLoqmgP",
        "colab_type": "text"
      },
      "source": [
        "MATLAB will execute the above statement and return the following result −\n",
        "\n"
      ]
    },
    {
      "cell_type": "code",
      "metadata": {
        "id": "lDTXgO4zqojS",
        "colab_type": "code",
        "colab": {}
      },
      "source": [
        "weekly_wage = 1064.70"
      ],
      "execution_count": null,
      "outputs": []
    },
    {
      "cell_type": "markdown",
      "metadata": {
        "id": "qNqB3LGKrKB_",
        "colab_type": "text"
      },
      "source": [
        "#**3-Creating Vectors**\n",
        "A vector is a one-dimensional array of numbers. MATLAB allows creating two types of vectors −\n",
        "- Row vectors\n",
        "- Column vectors\n",
        "\n",
        "Row vectors are created by enclosing the set of elements in square brackets, using space or comma to delimit the elements."
      ]
    },
    {
      "cell_type": "code",
      "metadata": {
        "id": "z2leJga5r_XG",
        "colab_type": "code",
        "colab": {}
      },
      "source": [
        "r = [7 8 9 10 11]"
      ],
      "execution_count": null,
      "outputs": []
    },
    {
      "cell_type": "code",
      "metadata": {
        "id": "6j--S-nRv7PX",
        "colab_type": "code",
        "colab": {}
      },
      "source": [
        "r = [7 8 9 10 11];\n",
        "t = [2, 3, 4, 5, 6];\n",
        "res = r + t"
      ],
      "execution_count": null,
      "outputs": []
    },
    {
      "cell_type": "code",
      "metadata": {
        "id": "22U3ErlowCBh",
        "colab_type": "code",
        "colab": {}
      },
      "source": [
        "res =\n",
        "\n",
        "         9         11         13         15         17"
      ],
      "execution_count": null,
      "outputs": []
    },
    {
      "cell_type": "markdown",
      "metadata": {
        "id": "2J5hjwhzwIdR",
        "colab_type": "text"
      },
      "source": [
        "Column vectors are created by enclosing the set of elements in square brackets, using semicolon(;) to delimit the elements."
      ]
    },
    {
      "cell_type": "code",
      "metadata": {
        "id": "poHjihnawMGx",
        "colab_type": "code",
        "colab": {}
      },
      "source": [
        "c = [7;  8;  9;  10; 11]\n",
        "#c =\n",
        "       7       \n",
        "       8       \n",
        "       9       \n",
        "      10       \n",
        "      11  "
      ],
      "execution_count": null,
      "outputs": []
    },
    {
      "cell_type": "markdown",
      "metadata": {
        "id": "Kdq_N078waDr",
        "colab_type": "text"
      },
      "source": [
        "#**4-Creating Matrices**\n",
        "A matrix is a two-dimensional array of numbers.\n",
        "\n",
        "In MATLAB, a matrix is created by entering each row as a sequence of space or comma separated elements, and end of a row is demarcated by a semicolon. For example, let us create a 3-by-3 matrix as −"
      ]
    },
    {
      "cell_type": "code",
      "metadata": {
        "id": "rXAR7UNtwxiJ",
        "colab_type": "code",
        "colab": {}
      },
      "source": [
        "m = [1 2 3; 4 5 6; 7 8 9]"
      ],
      "execution_count": null,
      "outputs": []
    },
    {
      "cell_type": "markdown",
      "metadata": {
        "id": "3hobbAdY3Tuq",
        "colab_type": "text"
      },
      "source": [
        "#**5-Commends**"
      ]
    },
    {
      "cell_type": "markdown",
      "metadata": {
        "id": "6ytyTNmZ3mEY",
        "colab_type": "text"
      },
      "source": [
        "**Commands for Managing a Session**\n",
        "\n",
        "MATLAB provides various commands for managing a session. The following table provides all such commands −"
      ]
    },
    {
      "cell_type": "markdown",
      "metadata": {
        "id": "C36JvehH4sTE",
        "colab_type": "text"
      },
      "source": [
        "- **clc**- Clears command window.\n",
        "- **clear**- Removes variables from memory.\n",
        "- **exist**- Checks for existence of file or variable.\n",
        "\n",
        "\t"
      ]
    },
    {
      "cell_type": "markdown",
      "metadata": {
        "id": "cuk6Ah0vJZTn",
        "colab_type": "text"
      },
      "source": [
        "#**References**\n",
        "\n",
        "[1]How to run matlab .m files in google \n",
        "\n",
        "https://stackoverflow.com/questions/56416657/how-to-run-matlab-m-files-in-google-colab\n",
        "\n",
        "[2]MATLAB Software Installation r2020a\n",
        "https://www.youtube.com/watch?v=ZTefnp-miEI&feature=youtu.be&fbclid=IwAR2iMNmccJicoanxjzkCHFa0vWx7GnHMBRG6IltzG2HKuvonkZtCEG7WHuY\n",
        "\n",
        "[3]matlabcoding\n",
        "https://www.matlabcoding.com/\n",
        "\n",
        "[4]MATLAB Tutorial\n",
        "https://www.tutorialspoint.com/matlab/index.htm"
      ]
    }
  ]
}