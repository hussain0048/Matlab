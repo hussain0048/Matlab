{
  "nbformat": 4,
  "nbformat_minor": 0,
  "metadata": {
    "colab": {
      "name": "Basic of Matlab.ipynb",
      "provenance": [],
      "collapsed_sections": [],
      "include_colab_link": true
    },
    "kernelspec": {
      "name": "python3",
      "display_name": "Python 3"
    }
  },
  "cells": [
    {
      "cell_type": "markdown",
      "metadata": {
        "id": "view-in-github",
        "colab_type": "text"
      },
      "source": [
        "<a href=\"https://colab.research.google.com/github/hussain0048/Matlab/blob/master/Basic_of_Matlab.ipynb\" target=\"_parent\"><img src=\"https://colab.research.google.com/assets/colab-badge.svg\" alt=\"Open In Colab\"/></a>"
      ]
    },
    {
      "cell_type": "code",
      "metadata": {
        "id": "_dca6992Zfrg",
        "colab_type": "code",
        "colab": {}
      },
      "source": [
        "!apt install octave"
      ],
      "execution_count": null,
      "outputs": []
    },
    {
      "cell_type": "code",
      "metadata": {
        "id": "poFRb32bZk1J",
        "colab_type": "code",
        "colab": {
          "base_uri": "https://localhost:8080/",
          "height": 34
        },
        "outputId": "629f5257-b184-4611-f973-5ffe1621179d"
      },
      "source": [
        "%%writefile add.m\n",
        "x = 1\n",
        "y = 2\n",
        "display(x+y)"
      ],
      "execution_count": null,
      "outputs": [
        {
          "output_type": "stream",
          "text": [
            "Writing add.m\n"
          ],
          "name": "stdout"
        }
      ]
    },
    {
      "cell_type": "code",
      "metadata": {
        "id": "7o_LGZZiZrDD",
        "colab_type": "code",
        "colab": {}
      },
      "source": [
        "# -W : no window system\n",
        "!octave -W add.m"
      ],
      "execution_count": null,
      "outputs": []
    },
    {
      "cell_type": "code",
      "metadata": {
        "id": "4cg5Y8WTZuNd",
        "colab_type": "code",
        "colab": {}
      },
      "source": [
        "x=1\n",
        "y=3\n",
        "display(x+y)"
      ],
      "execution_count": null,
      "outputs": []
    },
    {
      "cell_type": "markdown",
      "metadata": {
        "id": "cuk6Ah0vJZTn",
        "colab_type": "text"
      },
      "source": [
        "#**References**\n",
        "\n",
        "[1]How to run matlab .m files in google \n",
        "\n",
        "https://stackoverflow.com/questions/56416657/how-to-run-matlab-m-files-in-google-colab\n",
        "\n",
        "[2]MATLAB Software Installation r2020a\n",
        "https://www.youtube.com/watch?v=ZTefnp-miEI&feature=youtu.be&fbclid=IwAR2iMNmccJicoanxjzkCHFa0vWx7GnHMBRG6IltzG2HKuvonkZtCEG7WHuY\n",
        "\n",
        "[3]matlabcoding\n",
        "https://www.matlabcoding.com/"
      ]
    }
  ]
}